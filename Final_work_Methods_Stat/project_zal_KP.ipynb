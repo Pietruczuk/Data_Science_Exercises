{
 "cells": [
  {
   "cell_type": "markdown",
   "id": "bd3f60d0-5e10-4579-a820-35a5f84a42d5",
   "metadata": {},
   "source": [
    "***\n",
    "## **COURSEWORK - Statistical and analytical methods of Big Data**\n",
    "### AUTHOR: Krzysztof Pietruczuk\n",
    "### January 24, 2023\n",
    "***"
   ]
  },
  {
   "cell_type": "markdown",
   "id": "ac5da87b-094b-4172-a3f8-fe729b2aa0c7",
   "metadata": {},
   "source": [
    "\n",
    "#### GOAL OF THE PROJECT: Analysis of stroke data contained in the file `healthcare-dataset-stroke-data.csv`."
   ]
  },
  {
   "cell_type": "markdown",
   "id": "9fbfba91-6d25-498a-834d-b126e608b844",
   "metadata": {},
   "source": [
    "----------------------------"
   ]
  },
  {
   "cell_type": "code",
   "execution_count": 1,
   "id": "4e01f75b-962f-4751-9f5a-0f5b6d1d8d31",
   "metadata": {},
   "outputs": [],
   "source": [
    "import pandas as pd                                                                  # loading the needed libraries\n",
    "import numpy as np\n",
    "import matplotlib.pyplot as plt\n",
    "import seaborn as sns\n",
    "import sklearn\n",
    "\n",
    "from sklearn.feature_selection import SelectKBest\n",
    "from sklearn.feature_selection import chi2\n",
    "from sklearn.model_selection import train_test_split\n",
    "from sklearn.preprocessing import StandardScaler\n",
    "from sklearn.model_selection import KFold\n",
    "from sklearn.model_selection import cross_val_score\n",
    "from sklearn import metrics\n",
    "from sklearn.metrics import accuracy_score, confusion_matrix, ConfusionMatrixDisplay, roc_curve, roc_auc_score\n",
    "\n",
    "from sklearn.model_selection import GridSearchCV\n",
    "from sklearn import svm\n",
    "from sklearn.neighbors import KNeighborsClassifier\n",
    "from sklearn.svm import SVC\n",
    "from sklearn.linear_model import LogisticRegression as LR\n",
    "from sklearn.tree import DecisionTreeClassifier\n",
    "from sklearn.naive_bayes import GaussianNB\n",
    "from sklearn.ensemble import RandomForestClassifier\n",
    "from sklearn.ensemble import GradientBoostingClassifier"
   ]
  },
  {
   "cell_type": "code",
   "execution_count": 2,
   "id": "4c698c2e-5a19-4820-9f71-0c4611284579",
   "metadata": {},
   "outputs": [],
   "source": [
    "stroke_data = pd.read_csv(\"healthcare-dataset-stroke-data.csv\", sep = ',')           # Loading data from a .csv file"
   ]
  },
  {
   "cell_type": "markdown",
   "id": "f61a170c-421d-4ae9-8ebd-92cca69efa3c",
   "metadata": {},
   "source": [
    "> #### **INITIAL ANALYSIS OF THE DATASET**"
   ]
  },
  {
   "cell_type": "code",
   "execution_count": 3,
   "id": "7156f56a-cb81-4541-8829-1efde7dc19df",
   "metadata": {},
   "outputs": [
    {
     "data": {
      "text/html": [
       "<div>\n",
       "<style scoped>\n",
       "    .dataframe tbody tr th:only-of-type {\n",
       "        vertical-align: middle;\n",
       "    }\n",
       "\n",
       "    .dataframe tbody tr th {\n",
       "        vertical-align: top;\n",
       "    }\n",
       "\n",
       "    .dataframe thead th {\n",
       "        text-align: right;\n",
       "    }\n",
       "</style>\n",
       "<table border=\"1\" class=\"dataframe\">\n",
       "  <thead>\n",
       "    <tr style=\"text-align: right;\">\n",
       "      <th></th>\n",
       "      <th>id</th>\n",
       "      <th>gender</th>\n",
       "      <th>age</th>\n",
       "      <th>hypertension</th>\n",
       "      <th>heart_disease</th>\n",
       "      <th>ever_married</th>\n",
       "      <th>work_type</th>\n",
       "      <th>Residence_type</th>\n",
       "      <th>avg_glucose_level</th>\n",
       "      <th>bmi</th>\n",
       "      <th>smoking_status</th>\n",
       "      <th>stroke</th>\n",
       "    </tr>\n",
       "  </thead>\n",
       "  <tbody>\n",
       "    <tr>\n",
       "      <th>0</th>\n",
       "      <td>9046</td>\n",
       "      <td>Male</td>\n",
       "      <td>67.0</td>\n",
       "      <td>0</td>\n",
       "      <td>1</td>\n",
       "      <td>Yes</td>\n",
       "      <td>Private</td>\n",
       "      <td>Urban</td>\n",
       "      <td>228.69</td>\n",
       "      <td>36.6</td>\n",
       "      <td>formerly smoked</td>\n",
       "      <td>1</td>\n",
       "    </tr>\n",
       "    <tr>\n",
       "      <th>1</th>\n",
       "      <td>51676</td>\n",
       "      <td>Female</td>\n",
       "      <td>61.0</td>\n",
       "      <td>0</td>\n",
       "      <td>0</td>\n",
       "      <td>Yes</td>\n",
       "      <td>Self-employed</td>\n",
       "      <td>Rural</td>\n",
       "      <td>202.21</td>\n",
       "      <td>NaN</td>\n",
       "      <td>never smoked</td>\n",
       "      <td>1</td>\n",
       "    </tr>\n",
       "    <tr>\n",
       "      <th>2</th>\n",
       "      <td>31112</td>\n",
       "      <td>Male</td>\n",
       "      <td>80.0</td>\n",
       "      <td>0</td>\n",
       "      <td>1</td>\n",
       "      <td>Yes</td>\n",
       "      <td>Private</td>\n",
       "      <td>Rural</td>\n",
       "      <td>105.92</td>\n",
       "      <td>32.5</td>\n",
       "      <td>never smoked</td>\n",
       "      <td>1</td>\n",
       "    </tr>\n",
       "    <tr>\n",
       "      <th>3</th>\n",
       "      <td>60182</td>\n",
       "      <td>Female</td>\n",
       "      <td>49.0</td>\n",
       "      <td>0</td>\n",
       "      <td>0</td>\n",
       "      <td>Yes</td>\n",
       "      <td>Private</td>\n",
       "      <td>Urban</td>\n",
       "      <td>171.23</td>\n",
       "      <td>34.4</td>\n",
       "      <td>smokes</td>\n",
       "      <td>1</td>\n",
       "    </tr>\n",
       "    <tr>\n",
       "      <th>4</th>\n",
       "      <td>1665</td>\n",
       "      <td>Female</td>\n",
       "      <td>79.0</td>\n",
       "      <td>1</td>\n",
       "      <td>0</td>\n",
       "      <td>Yes</td>\n",
       "      <td>Self-employed</td>\n",
       "      <td>Rural</td>\n",
       "      <td>174.12</td>\n",
       "      <td>24.0</td>\n",
       "      <td>never smoked</td>\n",
       "      <td>1</td>\n",
       "    </tr>\n",
       "  </tbody>\n",
       "</table>\n",
       "</div>"
      ],
      "text/plain": [
       "      id  gender   age  hypertension  heart_disease ever_married  \\\n",
       "0   9046    Male  67.0             0              1          Yes   \n",
       "1  51676  Female  61.0             0              0          Yes   \n",
       "2  31112    Male  80.0             0              1          Yes   \n",
       "3  60182  Female  49.0             0              0          Yes   \n",
       "4   1665  Female  79.0             1              0          Yes   \n",
       "\n",
       "       work_type Residence_type  avg_glucose_level   bmi   smoking_status  \\\n",
       "0        Private          Urban             228.69  36.6  formerly smoked   \n",
       "1  Self-employed          Rural             202.21   NaN     never smoked   \n",
       "2        Private          Rural             105.92  32.5     never smoked   \n",
       "3        Private          Urban             171.23  34.4           smokes   \n",
       "4  Self-employed          Rural             174.12  24.0     never smoked   \n",
       "\n",
       "   stroke  \n",
       "0       1  \n",
       "1       1  \n",
       "2       1  \n",
       "3       1  \n",
       "4       1  "
      ]
     },
     "execution_count": 3,
     "metadata": {},
     "output_type": "execute_result"
    }
   ],
   "source": [
    "stroke_data.head()                                                                   # Dataframe header and first 5 records"
   ]
  },
  {
   "cell_type": "code",
   "execution_count": 4,
   "id": "c5f8b698-3c0d-4b20-bd37-ac6ab4d0ffbc",
   "metadata": {},
   "outputs": [
    {
     "data": {
      "text/plain": [
       "(5110, 12)"
      ]
     },
     "execution_count": 4,
     "metadata": {},
     "output_type": "execute_result"
    }
   ],
   "source": [
    "stroke_data.shape                                                                    # The number of rows and columns in the data frame"
   ]
  },
  {
   "cell_type": "code",
   "execution_count": 5,
   "id": "eff193de-686e-41d2-a9f2-e118003c974e",
   "metadata": {},
   "outputs": [
    {
     "name": "stdout",
     "output_type": "stream",
     "text": [
      "<class 'pandas.core.frame.DataFrame'>\n",
      "RangeIndex: 5110 entries, 0 to 5109\n",
      "Data columns (total 12 columns):\n",
      " #   Column             Non-Null Count  Dtype  \n",
      "---  ------             --------------  -----  \n",
      " 0   id                 5110 non-null   int64  \n",
      " 1   gender             5110 non-null   object \n",
      " 2   age                5110 non-null   float64\n",
      " 3   hypertension       5110 non-null   int64  \n",
      " 4   heart_disease      5110 non-null   int64  \n",
      " 5   ever_married       5110 non-null   object \n",
      " 6   work_type          5110 non-null   object \n",
      " 7   Residence_type     5110 non-null   object \n",
      " 8   avg_glucose_level  5110 non-null   float64\n",
      " 9   bmi                4909 non-null   float64\n",
      " 10  smoking_status     5110 non-null   object \n",
      " 11  stroke             5110 non-null   int64  \n",
      "dtypes: float64(3), int64(4), object(5)\n",
      "memory usage: 479.2+ KB\n"
     ]
    }
   ],
   "source": [
    "stroke_data.info()                                                                   # Information about the stroke_data object"
   ]
  },
  {
   "cell_type": "code",
   "execution_count": 6,
   "id": "5882a577-9c5e-4d46-847d-bce1a3338e1d",
   "metadata": {},
   "outputs": [
    {
     "data": {
      "text/plain": [
       "id                     0\n",
       "gender                 0\n",
       "age                    0\n",
       "hypertension           0\n",
       "heart_disease          0\n",
       "ever_married           0\n",
       "work_type              0\n",
       "Residence_type         0\n",
       "avg_glucose_level      0\n",
       "bmi                  201\n",
       "smoking_status         0\n",
       "stroke                 0\n",
       "dtype: int64"
      ]
     },
     "execution_count": 6,
     "metadata": {},
     "output_type": "execute_result"
    }
   ],
   "source": [
    "stroke_data.isnull().sum()                                                           # List in which columns there are missing values and what is their number"
   ]
  },
  {
   "cell_type": "code",
   "execution_count": 7,
   "id": "62cbb76c-c01b-4827-b564-b61725e633d9",
   "metadata": {},
   "outputs": [
    {
     "data": {
      "text/plain": [
       "Female    2994\n",
       "Male      2115\n",
       "Other        1\n",
       "Name: gender, dtype: int64"
      ]
     },
     "execution_count": 7,
     "metadata": {},
     "output_type": "execute_result"
    }
   ],
   "source": [
    "stroke_data['gender'].value_counts()                                                 # Unique values in the gender column and their quantity"
   ]
  },
  {
   "cell_type": "code",
   "execution_count": 8,
   "id": "0244a822-e15f-4896-a495-efb93a4fcad6",
   "metadata": {},
   "outputs": [
    {
     "data": {
      "text/plain": [
       "0    4612\n",
       "1     498\n",
       "Name: hypertension, dtype: int64"
      ]
     },
     "execution_count": 8,
     "metadata": {},
     "output_type": "execute_result"
    }
   ],
   "source": [
    "stroke_data['hypertension'].value_counts()                                           # Unique values in the hypertension column and their number"
   ]
  },
  {
   "cell_type": "code",
   "execution_count": 9,
   "id": "b7ac97a4-695d-4102-83ad-428e753da30f",
   "metadata": {},
   "outputs": [
    {
     "data": {
      "text/plain": [
       "0    4834\n",
       "1     276\n",
       "Name: heart_disease, dtype: int64"
      ]
     },
     "execution_count": 9,
     "metadata": {},
     "output_type": "execute_result"
    }
   ],
   "source": [
    "stroke_data['heart_disease'].value_counts()                                          # Unique values in the heart_disease column and their number"
   ]
  },
  {
   "cell_type": "code",
   "execution_count": 10,
   "id": "98e0aba4-22b2-4e36-a738-0119a9ee1794",
   "metadata": {},
   "outputs": [
    {
     "data": {
      "text/plain": [
       "Yes    3353\n",
       "No     1757\n",
       "Name: ever_married, dtype: int64"
      ]
     },
     "execution_count": 10,
     "metadata": {},
     "output_type": "execute_result"
    }
   ],
   "source": [
    "stroke_data['ever_married'].value_counts()                                           # Unique values in the ever_married column and their number"
   ]
  },
  {
   "cell_type": "code",
   "execution_count": 11,
   "id": "d3e30bb3-3958-47cb-bda6-5aadf91d9ce1",
   "metadata": {},
   "outputs": [
    {
     "data": {
      "text/plain": [
       "Private          2925\n",
       "Self-employed     819\n",
       "children          687\n",
       "Govt_job          657\n",
       "Never_worked       22\n",
       "Name: work_type, dtype: int64"
      ]
     },
     "execution_count": 11,
     "metadata": {},
     "output_type": "execute_result"
    }
   ],
   "source": [
    "stroke_data['work_type'].value_counts()                                              # Unique values in the work_type column and their number"
   ]
  },
  {
   "cell_type": "code",
   "execution_count": 12,
   "id": "42cf8adf-3769-4222-8e49-c154faf53909",
   "metadata": {},
   "outputs": [
    {
     "data": {
      "text/plain": [
       "Urban    2596\n",
       "Rural    2514\n",
       "Name: Residence_type, dtype: int64"
      ]
     },
     "execution_count": 12,
     "metadata": {},
     "output_type": "execute_result"
    }
   ],
   "source": [
    "stroke_data['Residence_type'].value_counts()                                         # Unique values in the Residence_type column and their number"
   ]
  },
  {
   "cell_type": "code",
   "execution_count": 13,
   "id": "63749dde-02d2-4d1c-a8ff-89be3774f211",
   "metadata": {},
   "outputs": [
    {
     "data": {
      "text/plain": [
       "never smoked       1892\n",
       "Unknown            1544\n",
       "formerly smoked     885\n",
       "smokes              789\n",
       "Name: smoking_status, dtype: int64"
      ]
     },
     "execution_count": 13,
     "metadata": {},
     "output_type": "execute_result"
    }
   ],
   "source": [
    "stroke_data['smoking_status'].value_counts()                                         # Unique values in the smoking_status column and their number"
   ]
  },
  {
   "cell_type": "code",
   "execution_count": 14,
   "id": "95fc7bbd-3267-40c9-921f-5f5b59f4702b",
   "metadata": {},
   "outputs": [
    {
     "data": {
      "text/plain": [
       "0    4861\n",
       "1     249\n",
       "Name: stroke, dtype: int64"
      ]
     },
     "execution_count": 14,
     "metadata": {},
     "output_type": "execute_result"
    }
   ],
   "source": [
    "stroke_data['stroke'].value_counts()                                                 # Unique values in the stroke column and their number"
   ]
  },
  {
   "cell_type": "code",
   "execution_count": 15,
   "id": "b05bccf3-931d-499a-baf4-ed50135e8e73",
   "metadata": {},
   "outputs": [
    {
     "data": {
      "text/html": [
       "<div>\n",
       "<style scoped>\n",
       "    .dataframe tbody tr th:only-of-type {\n",
       "        vertical-align: middle;\n",
       "    }\n",
       "\n",
       "    .dataframe tbody tr th {\n",
       "        vertical-align: top;\n",
       "    }\n",
       "\n",
       "    .dataframe thead th {\n",
       "        text-align: right;\n",
       "    }\n",
       "</style>\n",
       "<table border=\"1\" class=\"dataframe\">\n",
       "  <thead>\n",
       "    <tr style=\"text-align: right;\">\n",
       "      <th></th>\n",
       "      <th>count</th>\n",
       "      <th>mean</th>\n",
       "      <th>std</th>\n",
       "      <th>min</th>\n",
       "      <th>25%</th>\n",
       "      <th>50%</th>\n",
       "      <th>75%</th>\n",
       "      <th>max</th>\n",
       "    </tr>\n",
       "  </thead>\n",
       "  <tbody>\n",
       "    <tr>\n",
       "      <th>age</th>\n",
       "      <td>5110.0</td>\n",
       "      <td>43.226614</td>\n",
       "      <td>22.612647</td>\n",
       "      <td>0.08</td>\n",
       "      <td>25.000</td>\n",
       "      <td>45.000</td>\n",
       "      <td>61.00</td>\n",
       "      <td>82.00</td>\n",
       "    </tr>\n",
       "    <tr>\n",
       "      <th>avg_glucose_level</th>\n",
       "      <td>5110.0</td>\n",
       "      <td>106.147677</td>\n",
       "      <td>45.283560</td>\n",
       "      <td>55.12</td>\n",
       "      <td>77.245</td>\n",
       "      <td>91.885</td>\n",
       "      <td>114.09</td>\n",
       "      <td>271.74</td>\n",
       "    </tr>\n",
       "    <tr>\n",
       "      <th>bmi</th>\n",
       "      <td>4909.0</td>\n",
       "      <td>28.893237</td>\n",
       "      <td>7.854067</td>\n",
       "      <td>10.30</td>\n",
       "      <td>23.500</td>\n",
       "      <td>28.100</td>\n",
       "      <td>33.10</td>\n",
       "      <td>97.60</td>\n",
       "    </tr>\n",
       "  </tbody>\n",
       "</table>\n",
       "</div>"
      ],
      "text/plain": [
       "                    count        mean        std    min     25%     50%  \\\n",
       "age                5110.0   43.226614  22.612647   0.08  25.000  45.000   \n",
       "avg_glucose_level  5110.0  106.147677  45.283560  55.12  77.245  91.885   \n",
       "bmi                4909.0   28.893237   7.854067  10.30  23.500  28.100   \n",
       "\n",
       "                      75%     max  \n",
       "age                 61.00   82.00  \n",
       "avg_glucose_level  114.09  271.74  \n",
       "bmi                 33.10   97.60  "
      ]
     },
     "execution_count": 15,
     "metadata": {},
     "output_type": "execute_result"
    }
   ],
   "source": [
    "stroke_data[['age','avg_glucose_level', 'bmi']].describe().T                         # Basic descriptive statistics, only data were taken into account\n",
    "                                                                                     # having type float64 which are numeric data"
   ]
  },
  {
   "cell_type": "markdown",
   "id": "e23baf41-740d-41a1-8f8e-4ccbd3207e51",
   "metadata": {},
   "source": [
    "\n",
    "<u>**INFORMATION OBTAINED AT THIS STAGE:**</u><br>\n",
    "The data frame consists of 12 columns and 5110 rows.\n",
    "Three columns are float64, four are int64, and five are object.\n",
    "There are 249 people with a stroke in the database, 4861 people without a stroke.\n",
    "The gender column contains only one value entered as 'other'.\n",
    "In the bmi column we have missing values (NaN) - 201 data are missing.<br>\n",
    "<u>**CONCLUSIONS:**</u>\n",
    "1. We delete the record with the value entered as 'other'.\n",
    "2. We replace the values (NaN) in the bmi column with the mean value (mean=28.89).\n",
    "3. The minimum and maximum value in the bmi column should also be set, taking into account the information about this indicator - optimally: min 14, max 55.\n",
    "4. Calculation of BMI indicators for given patients proves that we are dealing with the parameters of adults, so the minimum age can be set to 18.\n",
    "---------------\n",
    "<u>CONCERNING BMI:</u> The BMI indicator should not be used in children and adolescents, because the content of adipose tissue changes during intensive development. It is assumed that the calculated indicator gives a correct result for people over 18 years of age. To assess the correct development of the child, percentile charts are used. The correct BMI should be 18.5-24.9. Below 16 we talk about the state of starvation and above 40 about extreme obesity (III degree obesity).<br>\n",
    "<u>CONCERNING AGE:</u> The age range has been set to adults 18 years and older, due to both the use of BMI and the fact that the incidence of stroke in children is very low. The incidence of stroke in children is estimated at 3/100,000 and in adults at 150/100,000 (literature data).\n",
    "---------------"
   ]
  },
  {
   "cell_type": "code",
   "execution_count": 16,
   "id": "21bffae9-e2e8-4815-88b2-498a8fbc8537",
   "metadata": {},
   "outputs": [],
   "source": [
    "stroke_data.drop(stroke_data.loc[stroke_data['gender']=='Other'].index, inplace=True)        # Removal of a row that had the value 'other' in the gender column"
   ]
  },
  {
   "cell_type": "code",
   "execution_count": 17,
   "id": "2ea006b2-f9a1-43ac-bf00-493ef3f26d25",
   "metadata": {},
   "outputs": [],
   "source": [
    "stroke_data['bmi'] = stroke_data['bmi'] .fillna(28.89)                                       # Inserting the n bmi mean value in place of the missing data in this column"
   ]
  },
  {
   "cell_type": "code",
   "execution_count": 18,
   "id": "650855ec-c4d4-4cdc-adb6-9582870b27a8",
   "metadata": {},
   "outputs": [],
   "source": [
    "stroke_data.drop(stroke_data.loc[stroke_data['age'] < 18].index, inplace=True)               # Deletion of records for persons under 18 years of age"
   ]
  },
  {
   "cell_type": "code",
   "execution_count": 19,
   "id": "a1743d2f-e305-40f8-9154-2cacf1aeaec2",
   "metadata": {},
   "outputs": [],
   "source": [
    "stroke_data.drop(stroke_data.loc[stroke_data['bmi'] < 14].index, inplace=True)               # Set min=14 for bmi column"
   ]
  },
  {
   "cell_type": "code",
   "execution_count": 20,
   "id": "00b7afbb-b6f5-4f6d-96b6-0d5928286753",
   "metadata": {},
   "outputs": [],
   "source": [
    "stroke_data.drop(stroke_data.loc[stroke_data['bmi'] > 55].index, inplace=True)               # Set max value=60 for bmi column"
   ]
  },
  {
   "cell_type": "code",
   "execution_count": 21,
   "id": "34eea9ab-ed5d-465b-b222-5086de03a3d5",
   "metadata": {},
   "outputs": [
    {
     "data": {
      "text/plain": [
       "4220"
      ]
     },
     "execution_count": 21,
     "metadata": {},
     "output_type": "execute_result"
    }
   ],
   "source": [
    "stroke_data.shape[0]                                                                         # Check how many records are left"
   ]
  },
  {
   "cell_type": "code",
   "execution_count": 22,
   "id": "852ca78b-5080-4598-aca5-579c936487b9",
   "metadata": {},
   "outputs": [
    {
     "data": {
      "text/html": [
       "<div>\n",
       "<style scoped>\n",
       "    .dataframe tbody tr th:only-of-type {\n",
       "        vertical-align: middle;\n",
       "    }\n",
       "\n",
       "    .dataframe tbody tr th {\n",
       "        vertical-align: top;\n",
       "    }\n",
       "\n",
       "    .dataframe thead th {\n",
       "        text-align: right;\n",
       "    }\n",
       "</style>\n",
       "<table border=\"1\" class=\"dataframe\">\n",
       "  <thead>\n",
       "    <tr style=\"text-align: right;\">\n",
       "      <th></th>\n",
       "      <th>count</th>\n",
       "      <th>mean</th>\n",
       "      <th>std</th>\n",
       "      <th>min</th>\n",
       "      <th>25%</th>\n",
       "      <th>50%</th>\n",
       "      <th>75%</th>\n",
       "      <th>max</th>\n",
       "    </tr>\n",
       "  </thead>\n",
       "  <tbody>\n",
       "    <tr>\n",
       "      <th>age</th>\n",
       "      <td>4,220.00</td>\n",
       "      <td>50.25</td>\n",
       "      <td>17.85</td>\n",
       "      <td>18.00</td>\n",
       "      <td>36.00</td>\n",
       "      <td>51.00</td>\n",
       "      <td>64.00</td>\n",
       "      <td>82.00</td>\n",
       "    </tr>\n",
       "    <tr>\n",
       "      <th>avg_glucose_level</th>\n",
       "      <td>4,220.00</td>\n",
       "      <td>108.45</td>\n",
       "      <td>47.70</td>\n",
       "      <td>55.12</td>\n",
       "      <td>77.49</td>\n",
       "      <td>92.47</td>\n",
       "      <td>116.03</td>\n",
       "      <td>271.74</td>\n",
       "    </tr>\n",
       "    <tr>\n",
       "      <th>bmi</th>\n",
       "      <td>4,220.00</td>\n",
       "      <td>30.15</td>\n",
       "      <td>6.57</td>\n",
       "      <td>14.10</td>\n",
       "      <td>25.60</td>\n",
       "      <td>28.89</td>\n",
       "      <td>33.70</td>\n",
       "      <td>55.00</td>\n",
       "    </tr>\n",
       "  </tbody>\n",
       "</table>\n",
       "</div>"
      ],
      "text/plain": [
       "                      count    mean    std    min    25%    50%     75%  \\\n",
       "age                4,220.00   50.25  17.85  18.00  36.00  51.00   64.00   \n",
       "avg_glucose_level  4,220.00  108.45  47.70  55.12  77.49  92.47  116.03   \n",
       "bmi                4,220.00   30.15   6.57  14.10  25.60  28.89   33.70   \n",
       "\n",
       "                      max  \n",
       "age                 82.00  \n",
       "avg_glucose_level  271.74  \n",
       "bmi                 55.00  "
      ]
     },
     "execution_count": 22,
     "metadata": {},
     "output_type": "execute_result"
    }
   ],
   "source": [
    "stroke_data[['age','avg_glucose_level', 'bmi']].describe().applymap('{:,.2f}'.format).T      # Basic stats"
   ]
  },
  {
   "cell_type": "markdown",
   "id": "1f3fabe5-20d4-4b2b-8cb0-1adf6cc78270",
   "metadata": {},
   "source": [
    "Graphical representation of numerical data in the form of histograms with a marked density line."
   ]
  },
  {
   "cell_type": "code",
   "execution_count": 23,
   "id": "15df06fe-9e0f-4fb4-9a44-5901fb7e708c",
   "metadata": {},
   "outputs": [
    {
     "data": {
      "image/png": "[encoded data removed]",
      "text/plain": [
       "<Figure size 1200x300 with 3 Axes>"
      ]
     },
     "metadata": {},
     "output_type": "display_data"
    }
   ],
   "source": [
    "fig, (ax1, ax2, ax3) = plt.subplots(1,3, figsize=(12,3))                                    # Histograms from the frequencies of individual column values with a marked density line\n",
    "\n",
    "sns.histplot(stroke_data['avg_glucose_level'], kde=True, ax=ax1, color='#DC143C')           # The avg_glucose_level column\n",
    "sns.histplot(stroke_data['bmi'], kde=True, ax=ax2, color='#3CB371')                         # bmi column\n",
    "sns.histplot(stroke_data['age'], kde=True, ax=ax3, color='#1E90FF')                         # age column\n",
    "\n",
    "ax1.lines[0].set_color('black')                                                             # Density line color setting\n",
    "ax2.lines[0].set_color('black')\n",
    "ax3.lines[0].set_color('black')\n",
    "\n",
    "ax1.set_ylabel('quantity')                                                                     # Set x and y axis labels for individual graphs\n",
    "ax1.set_xlabel('glucose concentration')\n",
    "ax2.set_ylabel('')\n",
    "ax2.set_xlabel('bmi')\n",
    "ax3.set_ylabel('')\n",
    "ax3.set_xlabel('age')\n",
    "\n",
    "ax1.set_yticks([0,100,200,300,400,500])                                                     # Setting the y-axis scale for individual graphs\n",
    "ax2.set_yticks([0,100,200,300,400,500])\n",
    "ax3.set_yticks([0,100,200,300,400,500])\n",
    "\n",
    "plt.show()                                                                                  # Bulk display of histograms"
   ]
  },
  {
   "cell_type": "markdown",
   "id": "5c3b9407-ce2c-4b1a-aefd-ec8d80ba17db",
   "metadata": {},
   "source": [
    "Graphical presentation of outliers."
   ]
  },
  {
   "cell_type": "code",
   "execution_count": 24,
   "id": "b0635b92-1a37-4584-b176-0346a990545e",
   "metadata": {},
   "outputs": [
    {
     "data": {
      "image/png": "[encoded data removed]",
      "text/plain": [
       "<Figure size 900x500 with 3 Axes>"
      ]
     },
     "metadata": {},
     "output_type": "display_data"
    }
   ],
   "source": [
    "fig, (ax1, ax2, ax3) = plt.subplots(1,3, figsize=(9,5))                                    # Boxplots and outliers\n",
    "color1_circle = dict(markerfacecolor='#FF1493', marker='o')\n",
    "color2_circle = dict(markerfacecolor='#00FF7F', marker='o')\n",
    "color3_circle = dict(markerfacecolor='#00FF7F', marker='o')\n",
    "sns.boxplot(stroke_data['avg_glucose_level'], flierprops=color1_circle, color='#DC143C', ax=ax1, width=0.35)  \n",
    "sns.boxplot(stroke_data['bmi'], flierprops=color2_circle, color='#3CB371', ax=ax2, width=0.35)\n",
    "sns.boxplot(stroke_data['age'], flierprops=color3_circle, color='#1E90FF', ax=ax3, width=0.35)\n",
    "\n",
    "ax1.set_xlabel('glucose concentration')                                                    # Set x-axis labels for individual charts\n",
    "ax2.set_xlabel('bmi')\n",
    "ax3.set_xlabel('age')\n",
    "\n",
    "ax1.set_yticks([0,50,100,150,200,250,300])                                                 # Setting the y-axis scale for individual graphs\n",
    "ax2.set_yticks([0,10,20,30,40,50,60])\n",
    "ax3.set_yticks([0,20,40,60,80,100])\n",
    "\n",
    "\n",
    "plt.show()                                                                                 # Bulk display of boxplots"
   ]
  },
  {
   "cell_type": "markdown",
   "id": "8f8bfc49-61c9-483b-b1f0-c6652d0150e5",
   "metadata": {},
   "source": [
    "Identification of outliers in avg_glucose_level, bmi columns.\n"
   ]
  },
  {
   "cell_type": "code",
   "execution_count": 25,
   "id": "810b9b31-0376-4bb1-bb1a-2f52cbba7285",
   "metadata": {},
   "outputs": [
    {
     "data": {
      "text/html": [
       "<div>\n",
       "<style scoped>\n",
       "    .dataframe tbody tr th:only-of-type {\n",
       "        vertical-align: middle;\n",
       "    }\n",
       "\n",
       "    .dataframe tbody tr th {\n",
       "        vertical-align: top;\n",
       "    }\n",
       "\n",
       "    .dataframe thead th {\n",
       "        text-align: right;\n",
       "    }\n",
       "</style>\n",
       "<table border=\"1\" class=\"dataframe\">\n",
       "  <thead>\n",
       "    <tr style=\"text-align: right;\">\n",
       "      <th></th>\n",
       "      <th>0.0</th>\n",
       "      <th>0.1</th>\n",
       "      <th>0.2</th>\n",
       "      <th>0.3</th>\n",
       "      <th>0.4</th>\n",
       "      <th>0.5</th>\n",
       "      <th>0.6</th>\n",
       "      <th>0.7</th>\n",
       "      <th>0.8</th>\n",
       "      <th>0.9</th>\n",
       "      <th>1.0</th>\n",
       "    </tr>\n",
       "  </thead>\n",
       "  <tbody>\n",
       "    <tr>\n",
       "      <th>avg_glucose_level</th>\n",
       "      <td>55.12</td>\n",
       "      <td>66.01</td>\n",
       "      <td>74.06</td>\n",
       "      <td>80.40</td>\n",
       "      <td>86.02</td>\n",
       "      <td>92.47</td>\n",
       "      <td>99.76</td>\n",
       "      <td>109.68</td>\n",
       "      <td>129.33</td>\n",
       "      <td>199.89</td>\n",
       "      <td>271.74</td>\n",
       "    </tr>\n",
       "    <tr>\n",
       "      <th>bmi</th>\n",
       "      <td>14.10</td>\n",
       "      <td>22.60</td>\n",
       "      <td>24.70</td>\n",
       "      <td>26.50</td>\n",
       "      <td>28.00</td>\n",
       "      <td>28.89</td>\n",
       "      <td>30.50</td>\n",
       "      <td>32.50</td>\n",
       "      <td>35.10</td>\n",
       "      <td>39.20</td>\n",
       "      <td>55.00</td>\n",
       "    </tr>\n",
       "  </tbody>\n",
       "</table>\n",
       "</div>"
      ],
      "text/plain": [
       "                     0.0    0.1    0.2    0.3    0.4    0.5    0.6     0.7  \\\n",
       "avg_glucose_level  55.12  66.01  74.06  80.40  86.02  92.47  99.76  109.68   \n",
       "bmi                14.10  22.60  24.70  26.50  28.00  28.89  30.50   32.50   \n",
       "\n",
       "                      0.8     0.9     1.0  \n",
       "avg_glucose_level  129.33  199.89  271.74  \n",
       "bmi                 35.10   39.20   55.00  "
      ]
     },
     "execution_count": 25,
     "metadata": {},
     "output_type": "execute_result"
    }
   ],
   "source": [
    "stroke_data[['avg_glucose_level','bmi']].quantile(np.arange(0.0, 1.1, 0.1)).applymap('{:,.2f}'.format).T       # Percentile data"
   ]
  },
  {
   "cell_type": "code",
   "execution_count": 26,
   "id": "00f6ec62-9433-43c8-b5cf-87269c28968c",
   "metadata": {},
   "outputs": [
    {
     "name": "stdout",
     "output_type": "stream",
     "text": [
      "outliers ---< 56.47 ---data set--- 243.52 >--- outliers\n"
     ]
    }
   ],
   "source": [
    "upper_limit = stroke_data.avg_glucose_level.quantile(.99)               # Determining outliers using percentiles. As lower\n",
    "lower_limit = stroke_data.avg_glucose_level.quantile(.01)               # the lower bound was designated the 1st percentile as the upper 99th percentile.\n",
    "\n",
    "print('outliers', '---<', \"{:.2f}\".format(lower_limit), '---data set---', \"{:.2f}\".format(upper_limit), '>---', 'outliers')"
   ]
  },
  {
   "cell_type": "code",
   "execution_count": 27,
   "id": "6a58d0a9-7ea5-4e63-a1b5-795b86ebcfab",
   "metadata": {},
   "outputs": [
    {
     "name": "stdout",
     "output_type": "stream",
     "text": [
      "outliers ---< 18.70 ---data set--- 50.20 >--- outliers\n"
     ]
    }
   ],
   "source": [
    "upper_limit = stroke_data.bmi.quantile(.99)                             # Determining outliers using percentiles. As lower\n",
    "lower_limit = stroke_data.bmi.quantile(.01)                             # the lower bound was designated the 1st percentile as the upper 99th percentile.\n",
    "\n",
    "print('outliers', '---<', \"{:.2f}\".format(lower_limit), '---data set---', \"{:.2f}\".format(upper_limit), '>---', 'outliers')"
   ]
  },
  {
   "cell_type": "code",
   "execution_count": 28,
   "id": "e2d015e5-c89d-48ba-be23-e443757a2d69",
   "metadata": {},
   "outputs": [
    {
     "data": {
      "text/plain": [
       "False    4180\n",
       "True       40\n",
       "Name: bmi, dtype: int64"
      ]
     },
     "execution_count": 28,
     "metadata": {},
     "output_type": "execute_result"
    }
   ],
   "source": [
    "(stroke_data['bmi'] > 50.20).value_counts()                             # Checking how many records there are with a bmi value above 50.20"
   ]
  },
  {
   "cell_type": "markdown",
   "id": "979b49b2-f501-445e-bd9c-b2e1f9db365b",
   "metadata": {},
   "source": [
    "I remove bmi values over 50.20 as outliers"
   ]
  },
  {
   "cell_type": "code",
   "execution_count": 29,
   "id": "d2069f3a-58e7-4e86-a8cb-8e32467b8a7f",
   "metadata": {},
   "outputs": [],
   "source": [
    "stroke_data.drop(stroke_data.loc[stroke_data['bmi'] > 50.20].index, inplace=True)            # Deletion of rows with bmi values > 50.20"
   ]
  },
  {
   "cell_type": "code",
   "execution_count": 30,
   "id": "548c4bce-8182-4efa-be40-8e515017ed15",
   "metadata": {},
   "outputs": [
    {
     "data": {
      "text/html": [
       "<div>\n",
       "<style scoped>\n",
       "    .dataframe tbody tr th:only-of-type {\n",
       "        vertical-align: middle;\n",
       "    }\n",
       "\n",
       "    .dataframe tbody tr th {\n",
       "        vertical-align: top;\n",
       "    }\n",
       "\n",
       "    .dataframe thead th {\n",
       "        text-align: right;\n",
       "    }\n",
       "</style>\n",
       "<table border=\"1\" class=\"dataframe\">\n",
       "  <thead>\n",
       "    <tr style=\"text-align: right;\">\n",
       "      <th></th>\n",
       "      <th>count</th>\n",
       "      <th>mean</th>\n",
       "      <th>std</th>\n",
       "      <th>min</th>\n",
       "      <th>25%</th>\n",
       "      <th>50%</th>\n",
       "      <th>75%</th>\n",
       "      <th>max</th>\n",
       "    </tr>\n",
       "  </thead>\n",
       "  <tbody>\n",
       "    <tr>\n",
       "      <th>age</th>\n",
       "      <td>4,180.00</td>\n",
       "      <td>50.27</td>\n",
       "      <td>17.89</td>\n",
       "      <td>18.00</td>\n",
       "      <td>36.00</td>\n",
       "      <td>51.00</td>\n",
       "      <td>64.00</td>\n",
       "      <td>82.00</td>\n",
       "    </tr>\n",
       "    <tr>\n",
       "      <th>avg_glucose_level</th>\n",
       "      <td>4,180.00</td>\n",
       "      <td>108.28</td>\n",
       "      <td>47.51</td>\n",
       "      <td>55.12</td>\n",
       "      <td>77.49</td>\n",
       "      <td>92.42</td>\n",
       "      <td>115.98</td>\n",
       "      <td>271.74</td>\n",
       "    </tr>\n",
       "    <tr>\n",
       "      <th>bmi</th>\n",
       "      <td>4,180.00</td>\n",
       "      <td>29.94</td>\n",
       "      <td>6.21</td>\n",
       "      <td>14.10</td>\n",
       "      <td>25.50</td>\n",
       "      <td>28.89</td>\n",
       "      <td>33.50</td>\n",
       "      <td>50.20</td>\n",
       "    </tr>\n",
       "  </tbody>\n",
       "</table>\n",
       "</div>"
      ],
      "text/plain": [
       "                      count    mean    std    min    25%    50%     75%  \\\n",
       "age                4,180.00   50.27  17.89  18.00  36.00  51.00   64.00   \n",
       "avg_glucose_level  4,180.00  108.28  47.51  55.12  77.49  92.42  115.98   \n",
       "bmi                4,180.00   29.94   6.21  14.10  25.50  28.89   33.50   \n",
       "\n",
       "                      max  \n",
       "age                 82.00  \n",
       "avg_glucose_level  271.74  \n",
       "bmi                 50.20  "
      ]
     },
     "execution_count": 30,
     "metadata": {},
     "output_type": "execute_result"
    }
   ],
   "source": [
    "stroke_data[['age','avg_glucose_level', 'bmi']].describe().applymap('{:,.2f}'.format).T      # Basic stats"
   ]
  },
  {
   "cell_type": "code",
   "execution_count": 31,
   "id": "c49d6cd0-2ebd-4044-bccb-8c23c0d3c886",
   "metadata": {},
   "outputs": [],
   "source": [
    "stroke_data.drop(columns=['id'], inplace=True)                                               # Remove the id column"
   ]
  },
  {
   "cell_type": "markdown",
   "id": "28f93fbe-6715-4c0c-babc-0099e3f52baa",
   "metadata": {},
   "source": [
    "Encoding values in selected columns"
   ]
  },
  {
   "cell_type": "markdown",
   "id": "912e6fab-eb23-4b0f-ac2f-71e9e85f98d4",
   "metadata": {},
   "source": [
    "| column             |   | value               | code |          \n",
    "|--------------------|---|---------------------|:----:|      \n",
    "| gender             |   | Male                | 0    |    \n",
    "|                    |   | Female              | 1    | \n",
    "|                    |   |                     |      |\n",
    "| ever_married       |   | No                  | 0    |\n",
    "|                    |   | Yes                 | 1    |  \n",
    "|                    |   |                     |      |\n",
    "| work_type          |   | Private             | 0    |\n",
    "|                    |   | Self-employed       | 1    |\n",
    "|                    |   | Govt_job            | 2    |\n",
    "|                    |   | Never_worked        | 3    |\n",
    "|                    |   |                     |      |\n",
    "| Residence_type     |   | Urban               | 0    |\n",
    "|                    |   | Rural               | 1    |\n",
    "|                    |   |                     |      |\n",
    "| smoking_status     |   | never smoked        | 0    |\n",
    "|                    |   | formerly smoked     | 1    |\n",
    "|                    |   | smokes              | 2    |\n",
    "|                    |   | Unknown             | 3    |"
   ]
  },
  {
   "cell_type": "code",
   "execution_count": 32,
   "id": "4bbafd1f-9167-436f-aa83-6fcf70efb6ef",
   "metadata": {},
   "outputs": [
    {
     "data": {
      "text/html": [
       "<div>\n",
       "<style scoped>\n",
       "    .dataframe tbody tr th:only-of-type {\n",
       "        vertical-align: middle;\n",
       "    }\n",
       "\n",
       "    .dataframe tbody tr th {\n",
       "        vertical-align: top;\n",
       "    }\n",
       "\n",
       "    .dataframe thead th {\n",
       "        text-align: right;\n",
       "    }\n",
       "</style>\n",
       "<table border=\"1\" class=\"dataframe\">\n",
       "  <thead>\n",
       "    <tr style=\"text-align: right;\">\n",
       "      <th></th>\n",
       "      <th>gender</th>\n",
       "      <th>age</th>\n",
       "      <th>hypertension</th>\n",
       "      <th>heart_disease</th>\n",
       "      <th>ever_married</th>\n",
       "      <th>work_type</th>\n",
       "      <th>Residence_type</th>\n",
       "      <th>avg_glucose_level</th>\n",
       "      <th>bmi</th>\n",
       "      <th>smoking_status</th>\n",
       "      <th>stroke</th>\n",
       "    </tr>\n",
       "  </thead>\n",
       "  <tbody>\n",
       "    <tr>\n",
       "      <th>0</th>\n",
       "      <td>0</td>\n",
       "      <td>67.0</td>\n",
       "      <td>0</td>\n",
       "      <td>1</td>\n",
       "      <td>1</td>\n",
       "      <td>0</td>\n",
       "      <td>0</td>\n",
       "      <td>228.69</td>\n",
       "      <td>36.60</td>\n",
       "      <td>1</td>\n",
       "      <td>1</td>\n",
       "    </tr>\n",
       "    <tr>\n",
       "      <th>1</th>\n",
       "      <td>1</td>\n",
       "      <td>61.0</td>\n",
       "      <td>0</td>\n",
       "      <td>0</td>\n",
       "      <td>1</td>\n",
       "      <td>1</td>\n",
       "      <td>1</td>\n",
       "      <td>202.21</td>\n",
       "      <td>28.89</td>\n",
       "      <td>0</td>\n",
       "      <td>1</td>\n",
       "    </tr>\n",
       "    <tr>\n",
       "      <th>2</th>\n",
       "      <td>0</td>\n",
       "      <td>80.0</td>\n",
       "      <td>0</td>\n",
       "      <td>1</td>\n",
       "      <td>1</td>\n",
       "      <td>0</td>\n",
       "      <td>1</td>\n",
       "      <td>105.92</td>\n",
       "      <td>32.50</td>\n",
       "      <td>0</td>\n",
       "      <td>1</td>\n",
       "    </tr>\n",
       "    <tr>\n",
       "      <th>3</th>\n",
       "      <td>1</td>\n",
       "      <td>49.0</td>\n",
       "      <td>0</td>\n",
       "      <td>0</td>\n",
       "      <td>1</td>\n",
       "      <td>0</td>\n",
       "      <td>0</td>\n",
       "      <td>171.23</td>\n",
       "      <td>34.40</td>\n",
       "      <td>2</td>\n",
       "      <td>1</td>\n",
       "    </tr>\n",
       "    <tr>\n",
       "      <th>4</th>\n",
       "      <td>1</td>\n",
       "      <td>79.0</td>\n",
       "      <td>1</td>\n",
       "      <td>0</td>\n",
       "      <td>1</td>\n",
       "      <td>1</td>\n",
       "      <td>1</td>\n",
       "      <td>174.12</td>\n",
       "      <td>24.00</td>\n",
       "      <td>0</td>\n",
       "      <td>1</td>\n",
       "    </tr>\n",
       "  </tbody>\n",
       "</table>\n",
       "</div>"
      ],
      "text/plain": [
       "  gender   age  hypertension  heart_disease ever_married work_type  \\\n",
       "0      0  67.0             0              1            1         0   \n",
       "1      1  61.0             0              0            1         1   \n",
       "2      0  80.0             0              1            1         0   \n",
       "3      1  49.0             0              0            1         0   \n",
       "4      1  79.0             1              0            1         1   \n",
       "\n",
       "  Residence_type  avg_glucose_level    bmi smoking_status  stroke  \n",
       "0              0             228.69  36.60              1       1  \n",
       "1              1             202.21  28.89              0       1  \n",
       "2              1             105.92  32.50              0       1  \n",
       "3              0             171.23  34.40              2       1  \n",
       "4              1             174.12  24.00              0       1  "
      ]
     },
     "execution_count": 32,
     "metadata": {},
     "output_type": "execute_result"
    }
   ],
   "source": [
    "stroke_data.loc[ stroke_data['gender'] == 'Male', 'gender'] = 0                             # Encoding specific values in selected columns\n",
    "stroke_data.loc[ stroke_data['gender'] == 'Female', 'gender'] = 1\n",
    "stroke_data.loc[ stroke_data['ever_married'] == 'No', 'ever_married'] = 0\n",
    "stroke_data.loc[ stroke_data['ever_married'] == 'Yes', 'ever_married'] = 1\n",
    "stroke_data.loc[ stroke_data['work_type'] == 'Private', 'work_type'] = 0\n",
    "stroke_data.loc[ stroke_data['work_type'] == 'Self-employed', 'work_type'] = 1\n",
    "stroke_data.loc[ stroke_data['work_type'] == 'Govt_job', 'work_type'] = 2\n",
    "stroke_data.loc[ stroke_data['work_type'] == 'Never_worked', 'work_type'] = 3\n",
    "stroke_data.loc[ stroke_data['Residence_type'] == 'Urban', 'Residence_type'] = 0\n",
    "stroke_data.loc[ stroke_data['Residence_type'] == 'Rural', 'Residence_type'] = 1\n",
    "stroke_data.loc[ stroke_data['smoking_status'] == 'never smoked', 'smoking_status'] = 0\n",
    "stroke_data.loc[ stroke_data['smoking_status'] == 'formerly smoked', 'smoking_status'] = 1\n",
    "stroke_data.loc[ stroke_data['smoking_status'] == 'smokes', 'smoking_status'] = 2\n",
    "stroke_data.loc[ stroke_data['smoking_status'] == 'Unknown', 'smoking_status'] = 3\n",
    "\n",
    "stroke_data.head()"
   ]
  },
  {
   "cell_type": "code",
   "execution_count": 33,
   "id": "fafa8a8e-e51d-4346-b3de-fcd788919b2d",
   "metadata": {},
   "outputs": [],
   "source": [
    "stroke_data.gender = stroke_data.gender.astype(pd.Int64Dtype())                              # Changing the data type\n",
    "stroke_data.age = stroke_data.age.astype(pd.Int64Dtype())\n",
    "stroke_data.ever_married = stroke_data.ever_married.astype(pd.Int64Dtype())\n",
    "stroke_data.work_type = stroke_data.work_type.astype(pd.Int64Dtype())\n",
    "stroke_data.Residence_type = stroke_data.Residence_type.astype(pd.Int64Dtype())\n",
    "stroke_data.smoking_status = stroke_data.smoking_status.astype(pd.Int64Dtype())"
   ]
  },
  {
   "cell_type": "markdown",
   "id": "af94e5a4-bfc4-4560-82ea-3218c9b2d338",
   "metadata": {},
   "source": [
    "Checking the correlation between variables."
   ]
  },
  {
   "cell_type": "code",
   "execution_count": 34,
   "id": "70c7f541-e57d-4d6d-ad2f-9eeec608f9b3",
   "metadata": {},
   "outputs": [
    {
     "data": {
      "image/png": "[encoded data removed]",
      "text/plain": [
       "<Figure size 1000x800 with 2 Axes>"
      ]
     },
     "metadata": {},
     "output_type": "display_data"
    }
   ],
   "source": [
    "fig, (axes) = plt.subplots(1,1, figsize=(10,8))\n",
    "sns.heatmap(stroke_data.corr(), cmap='Spectral', annot=True, fmt='.2f', center=0, vmin=-1, vmax=1)\n",
    "plt.show()"
   ]
  },
  {
   "cell_type": "markdown",
   "id": "1705aada-3385-47ff-993b-b76c26394bbe",
   "metadata": {},
   "source": [
    "Chi-square statistical test and check which of the explanatory variables are most related to the goal."
   ]
  },
  {
   "cell_type": "code",
   "execution_count": 35,
   "id": "40cd7c83-87dc-46a6-9556-4ec0fc156913",
   "metadata": {},
   "outputs": [
    {
     "data": {
      "text/html": [
       "<div>\n",
       "<style scoped>\n",
       "    .dataframe tbody tr th:only-of-type {\n",
       "        vertical-align: middle;\n",
       "    }\n",
       "\n",
       "    .dataframe tbody tr th {\n",
       "        vertical-align: top;\n",
       "    }\n",
       "\n",
       "    .dataframe thead th {\n",
       "        text-align: right;\n",
       "    }\n",
       "</style>\n",
       "<table border=\"1\" class=\"dataframe\">\n",
       "  <thead>\n",
       "    <tr style=\"text-align: right;\">\n",
       "      <th></th>\n",
       "      <th>Features</th>\n",
       "      <th>Score</th>\n",
       "    </tr>\n",
       "  </thead>\n",
       "  <tbody>\n",
       "    <tr>\n",
       "      <th>9</th>\n",
       "      <td>smoking_status</td>\n",
       "      <td>0.000070</td>\n",
       "    </tr>\n",
       "    <tr>\n",
       "      <th>8</th>\n",
       "      <td>bmi</td>\n",
       "      <td>0.266033</td>\n",
       "    </tr>\n",
       "    <tr>\n",
       "      <th>5</th>\n",
       "      <td>work_type</td>\n",
       "      <td>0.544497</td>\n",
       "    </tr>\n",
       "    <tr>\n",
       "      <th>6</th>\n",
       "      <td>Residence_type</td>\n",
       "      <td>0.607445</td>\n",
       "    </tr>\n",
       "    <tr>\n",
       "      <th>0</th>\n",
       "      <td>gender</td>\n",
       "      <td>0.769405</td>\n",
       "    </tr>\n",
       "    <tr>\n",
       "      <th>4</th>\n",
       "      <td>ever_married</td>\n",
       "      <td>3.482106</td>\n",
       "    </tr>\n",
       "    <tr>\n",
       "      <th>2</th>\n",
       "      <td>hypertension</td>\n",
       "      <td>53.326653</td>\n",
       "    </tr>\n",
       "    <tr>\n",
       "      <th>3</th>\n",
       "      <td>heart_disease</td>\n",
       "      <td>62.811097</td>\n",
       "    </tr>\n",
       "    <tr>\n",
       "      <th>7</th>\n",
       "      <td>avg_glucose_level</td>\n",
       "      <td>1443.038738</td>\n",
       "    </tr>\n",
       "    <tr>\n",
       "      <th>1</th>\n",
       "      <td>age</td>\n",
       "      <td>1692.680858</td>\n",
       "    </tr>\n",
       "  </tbody>\n",
       "</table>\n",
       "</div>"
      ],
      "text/plain": [
       "            Features        Score\n",
       "9     smoking_status     0.000070\n",
       "8                bmi     0.266033\n",
       "5          work_type     0.544497\n",
       "6     Residence_type     0.607445\n",
       "0             gender     0.769405\n",
       "4       ever_married     3.482106\n",
       "2       hypertension    53.326653\n",
       "3      heart_disease    62.811097\n",
       "7  avg_glucose_level  1443.038738\n",
       "1                age  1692.680858"
      ]
     },
     "execution_count": 35,
     "metadata": {},
     "output_type": "execute_result"
    }
   ],
   "source": [
    "X = stroke_data.drop('stroke', axis=1)\n",
    "y = stroke_data.stroke\n",
    "\n",
    "best_features= SelectKBest(score_func=chi2, k=4) \n",
    "fit= best_features.fit(X,y) \n",
    "\n",
    "stroke_scores= pd.DataFrame(fit.scores_)\n",
    "stroke_columns= pd.DataFrame(X.columns)\n",
    "\n",
    "features_scores= pd.concat([stroke_columns, stroke_scores], axis=1)                # Create a dataframe with the results\n",
    "features_scores.columns= ['Features', 'Score']\n",
    "features_scores.sort_values(by = 'Score')"
   ]
  },
  {
   "cell_type": "markdown",
   "id": "d46ca424-a0b4-43c8-ba17-7c7225fe4d2d",
   "metadata": {},
   "source": [
    "The most predictable variables for stroke prediction are age, mean blood glucose, presence of heart disease, and hypertension."
   ]
  },
  {
   "cell_type": "markdown",
   "id": "7dfeae73-7091-4e7f-9b94-9774a16d2977",
   "metadata": {},
   "source": [
    "> #### **MODELING**"
   ]
  },
  {
   "cell_type": "markdown",
   "id": "c9b7df86-6ca8-44ed-a909-3b46d6ce0ac7",
   "metadata": {},
   "source": [
    "<u>Preparation of datasets for modeling.</u> <br>\n",
    "We divide the dataset into an objective variable y (the explanatory variable) and a set of predictors X (the explanatory variables). We also take 80% of the values in the table as the training dataset and the remaining 30% as the test dataset. The target variable is the stroke column, while the predictors are the age, avg_glucose_level, heart_disease, and hypertension columns."
   ]
  },
  {
   "cell_type": "code",
   "execution_count": 36,
   "id": "a14c30bb-d354-421a-af30-e456480710ba",
   "metadata": {},
   "outputs": [],
   "source": [
    "y = stroke_data.stroke                                                                                                      # Defining the objective variable y\n",
    "X = stroke_data.drop(['stroke', 'ever_married', 'gender', 'Residence_type', 'work_type', 'bmi', 'smoking_status'], axis=1)  # Defining explanatory variables\n",
    "sc = StandardScaler()\n",
    "X = sc.fit_transform(X)"
   ]
  },
  {
   "cell_type": "markdown",
   "id": "f42357eb-f41d-468d-9574-b8132951f119",
   "metadata": {},
   "source": [
    "<u>Model selection.</u><br>\n",
    "We check seven classifiers, they will be Support Vector Classifier, Logistic Regression, Gaussian Naive Bayes, Random Forest and Gradient Boost to find out which one is the best. We calculate the classification accuracy of a given set of classification models to determine which model works best with the stroke dataset."
   ]
  },
  {
   "cell_type": "code",
   "execution_count": 37,
   "id": "ef125042-b7f4-44f6-9d8c-864cb4cdda8e",
   "metadata": {},
   "outputs": [],
   "source": [
    "models = []                                                                                                  # Creating a list of models to choose from\n",
    "models.append(('SVC', SVC()))\n",
    "models.append(('LR', LR()))\n",
    "models.append(('DT', DecisionTreeClassifier()))\n",
    "models.append(('GNB', GaussianNB()))\n",
    "models.append(('RF', RandomForestClassifier()))\n",
    "models.append(('GB', GradientBoostingClassifier()))"
   ]
  },
  {
   "cell_type": "code",
   "execution_count": 38,
   "id": "3a2e56dc-ec28-4b12-a6b2-77d3093e11b9",
   "metadata": {},
   "outputs": [],
   "source": [
    "X_train, X_test, y_train, y_test = train_test_split(X, y, test_size=0.20, random_state=40, stratify=y)      # Divided into test and training parts"
   ]
  },
  {
   "cell_type": "code",
   "execution_count": 39,
   "id": "cb8541e6-3e7e-4b0d-80da-1a5440d0dbe1",
   "metadata": {},
   "outputs": [
    {
     "name": "stdout",
     "output_type": "stream",
     "text": [
      "X_train:  (3344, 4)\n",
      "X_test:  (836, 4)\n",
      "y_train:  (3344,)\n",
      "y_test:  (836,)\n"
     ]
    }
   ],
   "source": [
    "print('X_train: ', X_train.shape)\n",
    "print('X_test: ', X_test.shape)\n",
    "print('y_train: ', y_train.shape)\n",
    "print('y_test: ', y_test.shape)\n"
   ]
  },
  {
   "cell_type": "code",
   "execution_count": 40,
   "id": "443dec19-369a-46f5-aa9d-bb9d68aa19f1",
   "metadata": {},
   "outputs": [
    {
     "name": "stdout",
     "output_type": "stream",
     "text": [
      "  Name     Score\n",
      "0  SVC  0.941388\n",
      "1   LR  0.941388\n",
      "2   DT  0.891148\n",
      "3  GNB  0.867225\n",
      "4   RF  0.927033\n",
      "5   GB  0.936603\n"
     ]
    }
   ],
   "source": [
    "names = []\n",
    "scores = []\n",
    "\n",
    "for name, model in models:\n",
    "    model.fit(X_train, y_train)\n",
    "    y_pred = model.predict(X_test)\n",
    "    scores.append(accuracy_score(y_test, y_pred))\n",
    "    names.append(name)\n",
    "    \n",
    "tr_split = pd.DataFrame({'Name': names, 'Score': scores})\n",
    "print(tr_split)"
   ]
  },
  {
   "cell_type": "code",
   "execution_count": 41,
   "id": "923523ae-d496-4ed6-9578-7c02512b51b6",
   "metadata": {},
   "outputs": [
    {
     "name": "stdout",
     "output_type": "stream",
     "text": [
      "  Name     Score\n",
      "0  SVC  0.941148\n",
      "1   LR  0.941148\n",
      "2   DT  0.888038\n",
      "3  GNB  0.863636\n",
      "4   RF  0.922488\n",
      "5   GB  0.938995\n"
     ]
    }
   ],
   "source": [
    "names = []                                                                                                   # Cross validation\n",
    "scores = []\n",
    "\n",
    "for name, model in models:    \n",
    "    kfold = KFold(n_splits=20, random_state=None, shuffle=False) \n",
    "    score = cross_val_score(model, X, y, cv=kfold, scoring='accuracy').mean()    \n",
    "    names.append(name)\n",
    "    scores.append(score)\n",
    "    \n",
    "kf_cross_val = pd.DataFrame({'Name': names, 'Score': scores})\n",
    "print(kf_cross_val)"
   ]
  },
  {
   "cell_type": "code",
   "execution_count": 42,
   "id": "dbe4b185-b044-4c0e-b110-7d5e204e19ba",
   "metadata": {},
   "outputs": [
    {
     "data": {
      "image/png": "[encoded data removed]",
      "text/plain": [
       "<Figure size 640x480 with 1 Axes>"
      ]
     },
     "metadata": {},
     "output_type": "display_data"
    }
   ],
   "source": [
    "axis = sns.barplot(x = 'Name', y = 'Score', data = kf_cross_val)                                            # Compare the results using a barplot plot\n",
    "axis.set(xlabel='Model', ylabel='Classification accuracy')\n",
    "for p in axis.patches:\n",
    "    height = p.get_height()\n",
    "    axis.text(p.get_x() + p.get_width()/2, height + 0.03, '{:1.4f}'.format(height), ha=\"center\") \n",
    "    axis.set_yticks([0,0.3,0.6,0.9,1.2])\n",
    "plt.show()"
   ]
  },
  {
   "cell_type": "markdown",
   "id": "a2c431f2-ecaa-401c-a62b-c653f5a95925",
   "metadata": {},
   "source": [
    "<u>Result obtained.</u><br>\n",
    "The best models turned out to be Support Vector Classifier and Logistic Regression with the result of classification accuracy equal to: 0.9411."
   ]
  },
  {
   "cell_type": "code",
   "execution_count": 43,
   "id": "2f4600f3-5ba2-4c40-9a61-45a821da3d58",
   "metadata": {},
   "outputs": [],
   "source": [
    "params = {'C': [0.001, 0.01, 0.1, 1.0],'penalty': ['l1', 'l2']}                    # Defining parameters\n",
    "\n",
    "log_reg = LR(random_state=42, class_weight='balanced',solver='liblinear')          # Logistic regression model initialization\n",
    "\n",
    "log_reg_cv = GridSearchCV(log_reg, param_grid=params, cv=5, scoring='accuracy')    # Initialize and use the best parameters for the model\n",
    "\n",
    "log_reg_cv.fit(X_train, y_train)                                                   # Model training\n",
    "\n",
    "y_pred = log_reg_cv.predict(X_test)                                                # Prediction\n",
    "                                             "
   ]
  },
  {
   "cell_type": "code",
   "execution_count": 44,
   "id": "2ae7d912-308a-4580-8fc2-b3b1483aa943",
   "metadata": {},
   "outputs": [
    {
     "name": "stdout",
     "output_type": "stream",
     "text": [
      "Accuracy: 0.9413875598086124\n"
     ]
    }
   ],
   "source": [
    "print(\"Accuracy:\",metrics.accuracy_score(y_test, y_pred))                          # Checking how well the model works"
   ]
  },
  {
   "cell_type": "code",
   "execution_count": 45,
   "id": "953fb6c3-ce81-4133-a50b-27fb73066138",
   "metadata": {},
   "outputs": [
    {
     "data": {
      "image/png": "[encoded data removed]",
      "text/plain": [
       "<Figure size 400x300 with 2 Axes>"
      ]
     },
     "metadata": {},
     "output_type": "display_data"
    }
   ],
   "source": [
    "cf_matrix = confusion_matrix(y_test, y_pred)                                       # Creating a confusion matrix\n",
    "\n",
    "fig, (axes) = plt.subplots(1,1, figsize=(4,3))                                     # Matrix presented graphically\n",
    "color = sns.color_palette(\"ch:s=.35,rot=-.35\", as_cmap=True)\n",
    "ax = sns.heatmap(cf_matrix, annot=True, fmt='.0f', cmap=color)\n",
    "ax.set_title('Error matrix');\n",
    "ax.set_xlabel('Projected label')\n",
    "ax.set_ylabel('Actual label');\n",
    "ax.xaxis.set_ticklabels(['False','True'])\n",
    "ax.yaxis.set_ticklabels(['False','True'])\n",
    "\n",
    "plt.show()"
   ]
  },
  {
   "cell_type": "code",
   "execution_count": 46,
   "id": "4791e2d4-8bf3-42ee-ae0f-a5ca21d51793",
   "metadata": {},
   "outputs": [],
   "source": [
    "clf = svm.SVC(kernel='linear')                                                        # Initialize and train the SVC model\n",
    "clf.fit(X_train, y_train)\n",
    "y_predict = clf.predict(X_test)"
   ]
  },
  {
   "cell_type": "code",
   "execution_count": 47,
   "id": "1c5647b6-f869-49fe-acf8-7e2530d2ff7b",
   "metadata": {},
   "outputs": [
    {
     "name": "stdout",
     "output_type": "stream",
     "text": [
      "Accuracy: 0.9413875598086124\n"
     ]
    }
   ],
   "source": [
    "print(\"Accuracy:\", metrics.accuracy_score(y_test, y_predict))                         # Checking how well the model works"
   ]
  },
  {
   "cell_type": "code",
   "execution_count": 48,
   "id": "49601e15-dc21-4dad-9c54-cc3636a66aa7",
   "metadata": {},
   "outputs": [
    {
     "data": {
      "image/png": "[encoded data removed]",
      "text/plain": [
       "<Figure size 400x300 with 2 Axes>"
      ]
     },
     "metadata": {},
     "output_type": "display_data"
    }
   ],
   "source": [
    "cf_matrix = confusion_matrix(y_test, y_predict)                                       # Creating a confusion matrix\n",
    "\n",
    "fig, (axes) = plt.subplots(1,1, figsize=(4,3))                                        # Matrix presented graphically\n",
    "color = sns.color_palette(\"ch:s=.35,rot=-.35\", as_cmap=True)\n",
    "ax = sns.heatmap(cf_matrix, annot=True, fmt='.0f', cmap=color)\n",
    "ax.set_title('Confusion matrix');\n",
    "ax.set_xlabel('Projected label')\n",
    "ax.set_ylabel('Actual label');\n",
    "ax.xaxis.set_ticklabels(['False','True'])\n",
    "ax.yaxis.set_ticklabels(['False','True'])\n",
    "\n",
    "plt.show()"
   ]
  },
  {
   "cell_type": "markdown",
   "id": "79438fa0-0d49-4130-90cc-3225f0ca39fe",
   "metadata": {},
   "source": [
    "<u>Conclusions from the analysis</u> <br>\n",
    "We isolated the most important parameters, namely age, avg_glucose_level, heart_disease, hypertension in predicting stroke. Both the application of the SVC model and the logistic regression brought the same results."
   ]
  },
  {
   "cell_type": "code",
   "execution_count": null,
   "id": "c7bda7eb-32ca-4a24-8d22-8861009a8bfd",
   "metadata": {},
   "outputs": [],
   "source": []
  }
 ],
 "metadata": {
  "kernelspec": {
   "display_name": "Python 3",
   "language": "python",
   "name": "python3"
  },
  "language_info": {
   "codemirror_mode": {
    "name": "ipython",
    "version": 3
   },
   "file_extension": ".py",
   "mimetype": "text/x-python",
   "name": "python",
   "nbconvert_exporter": "python",
   "pygments_lexer": "ipython3",
   "version": "3.10.8"
  }
 },
 "nbformat": 4,
 "nbformat_minor": 5
}
